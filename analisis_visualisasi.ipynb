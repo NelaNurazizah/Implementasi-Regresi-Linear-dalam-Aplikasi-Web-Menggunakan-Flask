{
 "cells": [
  {
   "cell_type": "markdown",
   "id": "23032ae4",
   "metadata": {},
   "source": [
    "# Analisis dan Visualisasi Prediksi Penjualan Berdasarkan Iklan"
   ]
  },
  {
   "cell_type": "code",
   "execution_count": null,
   "id": "e595f77a",
   "metadata": {},
   "outputs": [],
   "source": [
    "import pandas as pd\n",
    "import seaborn as sns\n",
    "import matplotlib.pyplot as plt\n",
    "from sklearn.linear_model import LinearRegression\n",
    "from sklearn.model_selection import train_test_split\n",
    "from sklearn.metrics import mean_absolute_error, mean_squared_error, r2_score\n",
    "\n",
    "df = pd.read_csv(\"advertising.csv\")\n",
    "df.head()"
   ]
  },
  {
   "cell_type": "markdown",
   "id": "e42b3ab3",
   "metadata": {},
   "source": [
    "## Korelasi Antar Fitur"
   ]
  },
  {
   "cell_type": "code",
   "execution_count": null,
   "id": "0abcee72",
   "metadata": {},
   "outputs": [],
   "source": [
    "sns.heatmap(df.corr(), annot=True, cmap='coolwarm')\n",
    "plt.title('Korelasi Antar Fitur')\n",
    "plt.show()"
   ]
  },
  {
   "cell_type": "markdown",
   "id": "077934be",
   "metadata": {},
   "source": [
    "## Scatter Plot: TV vs Sales"
   ]
  },
  {
   "cell_type": "code",
   "execution_count": null,
   "id": "6b236f35",
   "metadata": {},
   "outputs": [],
   "source": [
    "sns.scatterplot(data=df, x='TV', y='Sales')\n",
    "sns.regplot(data=df, x='TV', y='Sales', scatter=False, color='red')\n",
    "plt.title('TV vs Sales dengan Garis Regresi')\n",
    "plt.show()"
   ]
  },
  {
   "cell_type": "markdown",
   "id": "8d5ed345",
   "metadata": {},
   "source": [
    "## Melatih Model Regresi Linier"
   ]
  },
  {
   "cell_type": "code",
   "execution_count": null,
   "id": "50d136c3",
   "metadata": {},
   "outputs": [],
   "source": [
    "X = df[['TV', 'Radio', 'Newspaper']]\n",
    "y = df['Sales']\n",
    "\n",
    "X_train, X_test, y_train, y_test = train_test_split(X, y, test_size=0.2, random_state=42)\n",
    "\n",
    "model = LinearRegression()\n",
    "model.fit(X_train, y_train)"
   ]
  },
  {
   "cell_type": "markdown",
   "id": "b4b0688f",
   "metadata": {},
   "source": [
    "## Hasil Prediksi vs Data Aktual"
   ]
  },
  {
   "cell_type": "code",
   "execution_count": null,
   "id": "f41c2758",
   "metadata": {},
   "outputs": [],
   "source": [
    "y_pred = model.predict(X_test)\n",
    "\n",
    "plt.plot(range(len(y_test)), y_test.values, label='Aktual', marker='o')\n",
    "plt.plot(range(len(y_pred)), y_pred, label='Prediksi', marker='x')\n",
    "plt.title('Perbandingan Penjualan Aktual vs Prediksi')\n",
    "plt.xlabel('Index Data')\n",
    "plt.ylabel('Sales')\n",
    "plt.legend()\n",
    "plt.show()"
   ]
  },
  {
   "cell_type": "markdown",
   "id": "dfad2256",
   "metadata": {},
   "source": [
    "## Evaluasi Model"
   ]
  },
  {
   "cell_type": "code",
   "execution_count": null,
   "id": "eb5399cd",
   "metadata": {},
   "outputs": [],
   "source": [
    "mae = mean_absolute_error(y_test, y_pred)\n",
    "mse = mean_squared_error(y_test, y_pred)\n",
    "r2 = r2_score(y_test, y_pred)\n",
    "\n",
    "print(\"Mean Absolute Error (MAE):\", mae)\n",
    "print(\"Mean Squared Error (MSE):\", mse)\n",
    "print(\"R2 Score:\", r2)"
   ]
  }
 ],
 "metadata": {},
 "nbformat": 4,
 "nbformat_minor": 5
}
